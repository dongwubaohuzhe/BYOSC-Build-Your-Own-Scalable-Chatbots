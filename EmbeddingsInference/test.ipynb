{
 "cells": [
  {
   "cell_type": "code",
   "execution_count": 4,
   "metadata": {},
   "outputs": [
    {
     "name": "stderr",
     "output_type": "stream",
     "text": [
      "/Users/matteocirca/opt/anaconda3/envs/test/lib/python3.8/site-packages/tqdm/auto.py:21: TqdmWarning: IProgress not found. Please update jupyter and ipywidgets. See https://ipywidgets.readthedocs.io/en/stable/user_install.html\n",
      "  from .autonotebook import tqdm as notebook_tqdm\n"
     ]
    }
   ],
   "source": [
    "import hopsworks"
   ]
  },
  {
   "cell_type": "code",
   "execution_count": 5,
   "metadata": {},
   "outputs": [
    {
     "name": "stdout",
     "output_type": "stream",
     "text": [
      "Connected. Call `.close()` to terminate connection gracefully.\n",
      "\n",
      "Logged in to project, explore it here https://c.app.hopsworks.ai:443/p/314521\n",
      "Connected. Call `.close()` to terminate connection gracefully.\n"
     ]
    }
   ],
   "source": [
    "# You have to set the environment variable 'HOPSWORKS_API_KEY' for login to succeed\n",
    "project = hopsworks.login()\n",
    "fs = project.get_feature_store()"
   ]
  },
  {
   "cell_type": "code",
   "execution_count": 6,
   "metadata": {},
   "outputs": [
    {
     "name": "stdout",
     "output_type": "stream",
     "text": [
      "Finished: Reading data from Hopsworks, using ArrowFlight (0.92s) \n"
     ]
    }
   ],
   "source": [
    "instruction_set = fs.get_feature_group(name=\"embeddings\", version=1)\n",
    "df = instruction_set.read()"
   ]
  },
  {
   "cell_type": "code",
   "execution_count": 7,
   "metadata": {},
   "outputs": [
    {
     "data": {
      "text/html": [
       "<div>\n",
       "<style scoped>\n",
       "    .dataframe tbody tr th:only-of-type {\n",
       "        vertical-align: middle;\n",
       "    }\n",
       "\n",
       "    .dataframe tbody tr th {\n",
       "        vertical-align: top;\n",
       "    }\n",
       "\n",
       "    .dataframe thead th {\n",
       "        text-align: right;\n",
       "    }\n",
       "</style>\n",
       "<table border=\"1\" class=\"dataframe\">\n",
       "  <thead>\n",
       "    <tr style=\"text-align: right;\">\n",
       "      <th></th>\n",
       "      <th>source</th>\n",
       "      <th>page</th>\n",
       "      <th>content</th>\n",
       "    </tr>\n",
       "  </thead>\n",
       "  <tbody>\n",
       "    <tr>\n",
       "      <th>0</th>\n",
       "      <td>01_introduction.pdf</td>\n",
       "      <td>26</td>\n",
       "      <td>A model can also be trained to predict a numbe...</td>\n",
       "    </tr>\n",
       "    <tr>\n",
       "      <th>1</th>\n",
       "      <td>02_serverless_ml.pdf</td>\n",
       "      <td>1</td>\n",
       "      <td>Enterprise AI Value Chain\\n1 / 54</td>\n",
       "    </tr>\n",
       "    <tr>\n",
       "      <th>2</th>\n",
       "      <td>02_serverless_ml.pdf</td>\n",
       "      <td>18</td>\n",
       "      <td>Tabular Data in Pandas\\n18 / 54</td>\n",
       "    </tr>\n",
       "    <tr>\n",
       "      <th>3</th>\n",
       "      <td>01_introduction.pdf</td>\n",
       "      <td>55</td>\n",
       "      <td>Matrix Addition and Subtraction\\n▶The matrices...</td>\n",
       "    </tr>\n",
       "    <tr>\n",
       "      <th>4</th>\n",
       "      <td>02_serverless_ml.pdf</td>\n",
       "      <td>9</td>\n",
       "      <td>ML Pipeline Stages - Data Sources\\n9 / 54</td>\n",
       "    </tr>\n",
       "    <tr>\n",
       "      <th>...</th>\n",
       "      <td>...</td>\n",
       "      <td>...</td>\n",
       "      <td>...</td>\n",
       "    </tr>\n",
       "    <tr>\n",
       "      <th>131</th>\n",
       "      <td>02_serverless_ml.pdf</td>\n",
       "      <td>35</td>\n",
       "      <td>Model Training with Train and Test Sets in Sci...</td>\n",
       "    </tr>\n",
       "    <tr>\n",
       "      <th>132</th>\n",
       "      <td>01_introduction.pdf</td>\n",
       "      <td>3</td>\n",
       "      <td>————————————————\\n3 / 79</td>\n",
       "    </tr>\n",
       "    <tr>\n",
       "      <th>133</th>\n",
       "      <td>01_introduction.pdf</td>\n",
       "      <td>74</td>\n",
       "      <td>Maximum Likelihood Estimator - Example\\n▶Six t...</td>\n",
       "    </tr>\n",
       "    <tr>\n",
       "      <th>134</th>\n",
       "      <td>02_serverless_ml.pdf</td>\n",
       "      <td>0</td>\n",
       "      <td>Serverless Machine Learning\\nJim Dowling\\njdow...</td>\n",
       "    </tr>\n",
       "    <tr>\n",
       "      <th>135</th>\n",
       "      <td>01_introduction.pdf</td>\n",
       "      <td>77</td>\n",
       "      <td>Cross-Entropy\\n▶Coss-entropy: quantify the dif...</td>\n",
       "    </tr>\n",
       "  </tbody>\n",
       "</table>\n",
       "<p>136 rows × 3 columns</p>\n",
       "</div>"
      ],
      "text/plain": [
       "                   source  page  \\\n",
       "0     01_introduction.pdf    26   \n",
       "1    02_serverless_ml.pdf     1   \n",
       "2    02_serverless_ml.pdf    18   \n",
       "3     01_introduction.pdf    55   \n",
       "4    02_serverless_ml.pdf     9   \n",
       "..                    ...   ...   \n",
       "131  02_serverless_ml.pdf    35   \n",
       "132   01_introduction.pdf     3   \n",
       "133   01_introduction.pdf    74   \n",
       "134  02_serverless_ml.pdf     0   \n",
       "135   01_introduction.pdf    77   \n",
       "\n",
       "                                               content  \n",
       "0    A model can also be trained to predict a numbe...  \n",
       "1                    Enterprise AI Value Chain\\n1 / 54  \n",
       "2                      Tabular Data in Pandas\\n18 / 54  \n",
       "3    Matrix Addition and Subtraction\\n▶The matrices...  \n",
       "4            ML Pipeline Stages - Data Sources\\n9 / 54  \n",
       "..                                                 ...  \n",
       "131  Model Training with Train and Test Sets in Sci...  \n",
       "132                           ————————————————\\n3 / 79  \n",
       "133  Maximum Likelihood Estimator - Example\\n▶Six t...  \n",
       "134  Serverless Machine Learning\\nJim Dowling\\njdow...  \n",
       "135  Cross-Entropy\\n▶Coss-entropy: quantify the dif...  \n",
       "\n",
       "[136 rows x 3 columns]"
      ]
     },
     "execution_count": 7,
     "metadata": {},
     "output_type": "execute_result"
    }
   ],
   "source": [
    "df"
   ]
  },
  {
   "cell_type": "code",
   "execution_count": 26,
   "metadata": {},
   "outputs": [
    {
     "data": {
      "text/plain": [
       "[['Below is an instruction that describes a task. Write a response that appropriately completes the request. \\n### Question: What are the reasons why deep learning works now?\\n### Answer: Deep learning works now due to the significant increase in data quantity, tremendous increase in computing power, and better training algorithms.',\n",
       "  'What are the reasons why deep learning works now?',\n",
       "  'Deep learning works now due to the significant increase in data quantity, tremendous increase in computing power, and better training algorithms.'],\n",
       " ['Below is an instruction that describes a task. Write a response that appropriately completes the request. \\n### Question: How can you calculate the product of matrices?\\n### Answer: The product of matrices A and B is a third matrix C, denoted as C = AB. If A is of shape m×n and B is of shape n×p, then C is of shape m×p. The product of matrices is associative, but not commutative.',\n",
       "  'How can you calculate the product of matrices?',\n",
       "  'The product of matrices A and B is a third matrix C, denoted as C = AB. If A is of shape m×n and B is of shape n×p, then C is of shape m×p. The product of matrices is associative, but not commutative.'],\n",
       " ['Below is an instruction that describes a task. Write a response that appropriately completes the request. \\n### Question: What is conditional probability?\\n### Answer: Conditional probability refers to the probability of an event occurring given that another event has already occurred. It is denoted as p(Y=y|X=x) and can be calculated by dividing the joint probability of X and Y by the probability of X.',\n",
       "  'What is conditional probability?',\n",
       "  'Conditional probability refers to the probability of an event occurring given that another event has already occurred. It is denoted as p(Y=y|X=x) and can be calculated by dividing the joint probability of X and Y by the probability of X.'],\n",
       " ['Below is an instruction that describes a task. Write a response that appropriately completes the request. \\n### Question: What is the significance of matrix transpose?\\n### Answer: Matrix transpose involves swapping the rows and columns of a matrix. It can be represented as A⊺ and has properties such as Aij = A⊺ji, changing the dimensions from m×n to n×m, and distributing over addition and multiplication operations.',\n",
       "  'What is the significance of matrix transpose?',\n",
       "  'Matrix transpose involves swapping the rows and columns of a matrix. It can be represented as A⊺ and has properties such as Aij = A⊺ji, changing the dimensions from m×n to n×m, and distributing over addition and multiplication operations.'],\n",
       " ['Below is an instruction that describes a task. Write a response that appropriately completes the request. \\n### Question: How are the assignments assessed?\\n### Answer: The assignments in the course are assessed through an exam, lab assignments, and a final project. The exam is graded and consists of questions related to the lectures and labs. The lab assignments are graded based on the source code and oral presentation, with different grading criteria for different levels of completion. The final project is proposed by students, confirmed by the teacher, and graded based on the source code and oral presentation. Excellent projects receive a 20% bonus.',\n",
       "  'How are the assignments assessed?',\n",
       "  'The assignments in the course are assessed through an exam, lab assignments, and a final project. The exam is graded and consists of questions related to the lectures and labs. The lab assignments are graded based on the source code and oral presentation, with different grading criteria for different levels of completion. The final project is proposed by students, confirmed by the teacher, and graded based on the source code and oral presentation. Excellent projects receive a 20% bonus.'],\n",
       " ['Below is an instruction that describes a task. Write a response that appropriately completes the request. \\n### Question: What are some problems with monolithic ML pipelines?\\n### Answer: Some problems with monolithic ML pipelines include lack of modularity, difficulty in testing, tight coupling of pipeline steps, and limited code reuse.',\n",
       "  'What are some problems with monolithic ML pipelines?',\n",
       "  'Some problems with monolithic ML pipelines include lack of modularity, difficulty in testing, tight coupling of pipeline steps, and limited code reuse.'],\n",
       " ['Below is an instruction that describes a task. Write a response that appropriately completes the request. \\n### Question: What is a matrix and tensor?\\n### Answer: A matrix is a 2-D array of numbers denoted by bold uppercase letters. An entry in the matrix is represented by aij, where i is the row and j is the column. A tensor is an array with more than two axes.',\n",
       "  'What is a matrix and tensor?',\n",
       "  'A matrix is a 2-D array of numbers denoted by bold uppercase letters. An entry in the matrix is represented by aij, where i is the row and j is the column. A tensor is an array with more than two axes.'],\n",
       " ['Below is an instruction that describes a task. Write a response that appropriately completes the request. \\n### Question: What is the purpose of modular code in ML pipelines?\\n### Answer: The purpose of modular code in ML pipelines is to make the functionality separated into independent classes or functions that can be easily reused, tested, and understood.',\n",
       "  'What is the purpose of modular code in ML pipelines?',\n",
       "  'The purpose of modular code in ML pipelines is to make the functionality separated into independent classes or functions that can be easily reused, tested, and understood.'],\n",
       " ['Below is an instruction that describes a task. Write a response that appropriately completes the request. \\n### Question: What is the purpose of the Interactive Inference Pipeline?\\n### Answer: The purpose of the Interactive Inference Pipeline is to provide a user-friendly interface for making real-time predictions on the type of iris flower based on input attributes. It loads the trained model, accepts input values for sepal and petal lengths/widths, uses the model to make a prediction, downloads the corresponding image of the predicted flower from a predefined URL, and displays the image as output.',\n",
       "  'What is the purpose of the Interactive Inference Pipeline?',\n",
       "  'The purpose of the Interactive Inference Pipeline is to provide a user-friendly interface for making real-time predictions on the type of iris flower based on input attributes. It loads the trained model, accepts input values for sepal and petal lengths/widths, uses the model to make a prediction, downloads the corresponding image of the predicted flower from a predefined URL, and displays the image as output.'],\n",
       " ['Below is an instruction that describes a task. Write a response that appropriately completes the request. \\n### Question: What are the possible steps to improve model performance in a model-centric iteration process?\\n### Answer: Possible steps to improve model performance in a model-centric iteration process include trying out different supervised ML learning algorithms, exploring different combinations of hyperparameters, and evaluating the model on a validation set.',\n",
       "  'What are the possible steps to improve model performance in a model-centric iteration process?',\n",
       "  'Possible steps to improve model performance in a model-centric iteration process include trying out different supervised ML learning algorithms, exploring different combinations of hyperparameters, and evaluating the model on a validation set.'],\n",
       " ['Below is an instruction that describes a task. Write a response that appropriately completes the request. \\n### Question: How is the cross entropy calculated for this example?\\n### Answer: The cross entropy is calculated by using the formula H(p,q) = -p(h)log(q(h)) - p(t)log(q(t)), where p is the true distribution and q is the predicted distribution.',\n",
       "  'How is the cross entropy calculated for this example?',\n",
       "  'The cross entropy is calculated by using the formula H(p,q) = -p(h)log(q(h)) - p(t)log(q(t)), where p is the true distribution and q is the predicted distribution.'],\n",
       " ['Below is an instruction that describes a task. Write a response that appropriately completes the request. \\n### Question: What is feature engineering?\\n### Answer: Feature engineering is the process of extracting useful features from raw data to improve the performance of machine learning models.',\n",
       "  'What is feature engineering?',\n",
       "  'Feature engineering is the process of extracting useful features from raw data to improve the performance of machine learning models.'],\n",
       " ['Below is an instruction that describes a task. Write a response that appropriately completes the request. \\n### Question: What are some examples of feature engineering steps in a feature pipeline?\\n### Answer: Some examples of feature engineering steps in a feature pipeline are cleaning and validating data, data deduplication and wrangling, feature extraction and aggregations, feature binning, and feature crosses.',\n",
       "  'What are some examples of feature engineering steps in a feature pipeline?',\n",
       "  'Some examples of feature engineering steps in a feature pipeline are cleaning and validating data, data deduplication and wrangling, feature extraction and aggregations, feature binning, and feature crosses.'],\n",
       " ['Below is an instruction that describes a task. Write a response that appropriately completes the request. \\n### Question: What is the purpose of using a feature store in online models that require historical or contextual information?\\n### Answer: The purpose of using a feature store in online models that require historical or contextual information is to store and reuse features across different models for both training and inference.',\n",
       "  'What is the purpose of using a feature store in online models that require historical or contextual information?',\n",
       "  'The purpose of using a feature store in online models that require historical or contextual information is to store and reuse features across different models for both training and inference.'],\n",
       " [\"Below is an instruction that describes a task. Write a response that appropriately completes the request. \\n### Question: How does the code create a confusion matrix for the model's predictions?\\n### Answer: The code creates a confusion matrix for the model's predictions by using the `classification_report` function to generate a dictionary of metrics, including precision, recall, and f1-score, and then using the `confusion_matrix` function to create a pandas DataFrame visualization of the results using seaborn heatmap.\",\n",
       "  \"How does the code create a confusion matrix for the model's predictions?\",\n",
       "  \"The code creates a confusion matrix for the model's predictions by using the `classification_report` function to generate a dictionary of metrics, including precision, recall, and f1-score, and then using the `confusion_matrix` function to create a pandas DataFrame visualization of the results using seaborn heatmap.\"],\n",
       " ['Below is an instruction that describes a task. Write a response that appropriately completes the request. \\n### Question: What is supervised machine learning concerned with?\\n### Answer: Supervised machine learning is concerned with extracting a pattern from labeled data to a model and using that model to make predictions for new unlabeled data.',\n",
       "  'What is supervised machine learning concerned with?',\n",
       "  'Supervised machine learning is concerned with extracting a pattern from labeled data to a model and using that model to make predictions for new unlabeled data.'],\n",
       " ['Below is an instruction that describes a task. Write a response that appropriately completes the request. \\n### Question: What is the definition of a vector?\\n### Answer: A vector is an array of numbers denoted by bold lowercase letters. Each entry in the vector is represented by xi.',\n",
       "  'What is the definition of a vector?',\n",
       "  'A vector is an array of numbers denoted by bold lowercase letters. Each entry in the vector is represented by xi.'],\n",
       " ['Below is an instruction that describes a task. Write a response that appropriately completes the request. \\n### Question: What is the expected value of a random variable with respect to a probability distribution?\\n### Answer: The expected value of a random variable X with respect to a probability distribution p(X) is the average value that X takes on when it is drawn from p(X). It can be calculated by multiplying each value of X by its probability and summing the results.',\n",
       "  'What is the expected value of a random variable with respect to a probability distribution?',\n",
       "  'The expected value of a random variable X with respect to a probability distribution p(X) is the average value that X takes on when it is drawn from p(X). It can be calculated by multiplying each value of X by its probability and summing the results.'],\n",
       " ['Below is an instruction that describes a task. Write a response that appropriately completes the request. \\n### Question: What is the purpose of the code in the given context?\\n### Answer: The purpose of the code in the given context is to train a machine learning model using the Iris flower dataset, evaluate its performance, and create an inference pipeline for predicting the type of iris flower based on input attributes.',\n",
       "  'What is the purpose of the code in the given context?',\n",
       "  'The purpose of the code in the given context is to train a machine learning model using the Iris flower dataset, evaluate its performance, and create an inference pipeline for predicting the type of iris flower based on input attributes.'],\n",
       " ['Below is an instruction that describes a task. Write a response that appropriately completes the request. \\n### Question: What are some challenges of training deep neural networks?\\n### Answer: Some challenges of training deep neural networks include computational intensity and time consumption due to the massive amount of training dataset and large number of parameters.',\n",
       "  'What are some challenges of training deep neural networks?',\n",
       "  'Some challenges of training deep neural networks include computational intensity and time consumption due to the massive amount of training dataset and large number of parameters.'],\n",
       " ['Below is an instruction that describes a task. Write a response that appropriately completes the request. \\n### Question: What does the variance measure?\\n### Answer: The variance measures how much the values of a random variable X vary as we sample it from its probability distribution. It is calculated by taking the expected value of the squared difference between each value of X and the expected value of X.',\n",
       "  'What does the variance measure?',\n",
       "  'The variance measures how much the values of a random variable X vary as we sample it from its probability distribution. It is calculated by taking the expected value of the squared difference between each value of X and the expected value of X.'],\n",
       " ['Below is an instruction that describes a task. Write a response that appropriately completes the request. \\n### Question: What is the true distribution for the coin toss example?\\n### Answer: The true distribution for the coin toss example is p(h) = 2/6 and p(t) = 4/6.',\n",
       "  'What is the true distribution for the coin toss example?',\n",
       "  'The true distribution for the coin toss example is p(h) = 2/6 and p(t) = 4/6.'],\n",
       " ['Below is an instruction that describes a task. Write a response that appropriately completes the request. \\n### Question: What is the predicted distribution for the coin toss example?\\n### Answer: The predicted distribution for the coin toss example is h with a probability of θ, and t with probability (1-θ).',\n",
       "  'What is the predicted distribution for the coin toss example?',\n",
       "  'The predicted distribution for the coin toss example is h with a probability of θ, and t with probability (1-θ).'],\n",
       " ['Below is an instruction that describes a task. Write a response that appropriately completes the request. \\n### Question: What is the probability mass function for discrete variables?\\n### Answer: The probability mass function (PMF) is the probability distribution of a discrete random variable. It assigns probabilities to each possible state of the variable, denoted as p(x). The properties of PMF include having a domain that covers all possible states of the variable, probabilities ranging from 0 to 1, and the sum of probabilities equaling 1.',\n",
       "  'What is the probability mass function for discrete variables?',\n",
       "  'The probability mass function (PMF) is the probability distribution of a discrete random variable. It assigns probabilities to each possible state of the variable, denoted as p(x). The properties of PMF include having a domain that covers all possible states of the variable, probabilities ranging from 0 to 1, and the sum of probabilities equaling 1.'],\n",
       " ['Below is an instruction that describes a task. Write a response that appropriately completes the request. \\n### Question: What are the two options for computing features in a model training or batch inference pipeline?\\n### Answer: The two options for computing features in a model training or batch inference pipeline are on-demand computation and using a feature store.',\n",
       "  'What are the two options for computing features in a model training or batch inference pipeline?',\n",
       "  'The two options for computing features in a model training or batch inference pipeline are on-demand computation and using a feature store.'],\n",
       " ['Below is an instruction that describes a task. Write a response that appropriately completes the request. \\n### Question: What is deep learning used for in image classification?\\n### Answer: Deep learning can be used to train models with millions of features in image classification.',\n",
       "  'What is deep learning used for in image classification?',\n",
       "  'Deep learning can be used to train models with millions of features in image classification.'],\n",
       " ['Below is an instruction that describes a task. Write a response that appropriately completes the request. \\n### Question: What is the main objective of the course?\\n### Answer: The main objective of the course is to learn the theory and practical aspects of building machine learning and deep learning algorithms using data parallel programming platforms.',\n",
       "  'What is the main objective of the course?',\n",
       "  'The main objective of the course is to learn the theory and practical aspects of building machine learning and deep learning algorithms using data parallel programming platforms.'],\n",
       " ['Below is an instruction that describes a task. Write a response that appropriately completes the request. \\n### Question: What is a probability distribution?\\n### Answer: A probability distribution describes how likely a random variable is to take on each of its possible states. It can be represented as a probability mass function (PMF) for discrete variables or a probability density function (PDF) for continuous variables.',\n",
       "  'What is a probability distribution?',\n",
       "  'A probability distribution describes how likely a random variable is to take on each of its possible states. It can be represented as a probability mass function (PMF) for discrete variables or a probability density function (PDF) for continuous variables.'],\n",
       " ['Below is an instruction that describes a task. Write a response that appropriately completes the request. \\n### Question: What is the LpNorm for vectors?\\n### Answer: LpNorm is a function used to measure the size of vectors. L1norm calculates the sum of absolute values of vector elements, L2norm calculates the square root of the sum of squared vector elements, and Lpnorm is a generalized form for any positive value of p.',\n",
       "  'What is the LpNorm for vectors?',\n",
       "  'LpNorm is a function used to measure the size of vectors. L1norm calculates the sum of absolute values of vector elements, L2norm calculates the square root of the sum of squared vector elements, and Lpnorm is a generalized form for any positive value of p.'],\n",
       " ['Below is an instruction that describes a task. Write a response that appropriately completes the request. \\n### Question: What are the topics covered in the course?\\n### Answer: The topics covered in the course include large scale deep learning with topics like TensorFlow, Deep Neural Networks, different DNN architectures, and distributed learning. The course also covers large scale machine learning with topics like Serverless Machine Learning, MLOps, Feature Stores for Machine Learning, and Distributed Training of DNNs.',\n",
       "  'What are the topics covered in the course?',\n",
       "  'The topics covered in the course include large scale deep learning with topics like TensorFlow, Deep Neural Networks, different DNN architectures, and distributed learning. The course also covers large scale machine learning with topics like Serverless Machine Learning, MLOps, Feature Stores for Machine Learning, and Distributed Training of DNNs.'],\n",
       " ['Below is an instruction that describes a task. Write a response that appropriately completes the request. \\n### Question: What is the maximum likelihood estimator?\\n### Answer: The maximum likelihood estimator (MLE) is a method used to estimate the most likely value of a parameter in a probability model given a training set. It is obtained by maximizing the likelihood function, which is the product of the probabilities of the observed data given the parameter.',\n",
       "  'What is the maximum likelihood estimator?',\n",
       "  'The maximum likelihood estimator (MLE) is a method used to estimate the most likely value of a parameter in a probability model given a training set. It is obtained by maximizing the likelihood function, which is the product of the probabilities of the observed data given the parameter.'],\n",
       " ['Below is an instruction that describes a task. Write a response that appropriately completes the request. \\n### Question: What does it mean for two random variables to be independent?\\n### Answer: Two random variables are independent if their probability distribution can be expressed as the product of their individual distributions. Mathematically, for any x in the domain of X and y in the domain of Y, p(X=x, Y=y) = p(X=x) * p(Y=y).',\n",
       "  'What does it mean for two random variables to be independent?',\n",
       "  'Two random variables are independent if their probability distribution can be expressed as the product of their individual distributions. Mathematically, for any x in the domain of X and y in the domain of Y, p(X=x, Y=y) = p(X=x) * p(Y=y).']]"
      ]
     },
     "execution_count": 26,
     "metadata": {},
     "output_type": "execute_result"
    }
   ],
   "source": [
    "# convert to list of triples\n",
    "triples = df.values.tolist()\n",
    "triples"
   ]
  },
  {
   "cell_type": "code",
   "execution_count": null,
   "metadata": {},
   "outputs": [],
   "source": []
  },
  {
   "cell_type": "code",
   "execution_count": null,
   "metadata": {},
   "outputs": [],
   "source": [
    "from transformers import AutoModelForCausalLM, AutoTokenizer\n",
    "\n",
    "device = \"mps\" # the device to load the model onto\n",
    "\n",
    "model = AutoModelForCausalLM.from_pretrained(\"mistralai/Mistral-7B-Instruct-v0.1\")\n",
    "tokenizer = AutoTokenizer.from_pretrained(\"mistralai/Mistral-7B-Instruct-v0.1\")\n",
    "\n",
    "messages = [\n",
    "    {\"role\": \"user\", \"content\": \"What is your favourite condiment?\"},\n",
    "    {\"role\": \"assistant\", \"content\": \"Well, I'm quite partial to a good squeeze of fresh lemon juice. It adds just the right amount of zesty flavour to whatever I'm cooking up in the kitchen!\"},\n",
    "    {\"role\": \"user\", \"content\": \"Do you have mayonnaise recipes?\"}\n",
    "]\n",
    "\n",
    "encodeds = tokenizer.apply_chat_template(messages, return_tensors=\"pt\")\n",
    "\n",
    "model_inputs = encodeds.to(device)\n",
    "model.to(device)\n",
    "\n",
    "generated_ids = model.generate(model_inputs, max_new_tokens=1000, do_sample=True)\n",
    "decoded = tokenizer.batch_decode(generated_ids)\n",
    "print(decoded[0])\n"
   ]
  },
  {
   "cell_type": "code",
   "execution_count": null,
   "metadata": {},
   "outputs": [],
   "source": [
    "generated_ids = model.generate(model_inputs, max_new_tokens=100, do_sample=True)\n",
    "decoded = tokenizer.batch_decode(generated_ids)\n",
    "print(decoded[0])"
   ]
  },
  {
   "cell_type": "code",
   "execution_count": null,
   "metadata": {},
   "outputs": [],
   "source": []
  }
 ],
 "metadata": {
  "kernelspec": {
   "display_name": "test",
   "language": "python",
   "name": "python3"
  },
  "language_info": {
   "codemirror_mode": {
    "name": "ipython",
    "version": 3
   },
   "file_extension": ".py",
   "mimetype": "text/x-python",
   "name": "python",
   "nbconvert_exporter": "python",
   "pygments_lexer": "ipython3",
   "version": "3.8.18"
  }
 },
 "nbformat": 4,
 "nbformat_minor": 2
}
